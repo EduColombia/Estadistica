{
 "cells": [
  {
   "cell_type": "markdown",
   "metadata": {},
   "source": [
    "# Curso de Teoría Estadística Bayesiana"
   ]
  },
  {
   "cell_type": "markdown",
   "metadata": {},
   "source": [
    "## Lenguajes de Programación que usaremos\n",
    "Python, R, Stan, sobre JupyterLab."
   ]
  },
  {
   "cell_type": "markdown",
   "metadata": {},
   "source": [
    "# Textos que usaremos\n",
    "1. \"Statistical Rethinking, A Bayesian Course with examples in R and Stan\", Richard McElreath, version compilada en noviembre 9 de 2015.\n",
    "2. \"Bayesian Analysis with Python\", Osvaldo Martin, edited by Pack Publishing Ltd., 2016 \n",
    "3. \"Bayesian Methods for Hackers. Probabilistic Programming  and Bayesian Inference\", Cameron Davidson-Pilon\", Addison Wesley. 2016.\n",
    "4. \"Stan User's Guide. Version 2.19\", Stan Development Team, 2019."
   ]
  },
  {
   "cell_type": "markdown",
   "metadata": {},
   "source": [
    "## Evaluación\n",
    "1. Dos parciales. 25% cada uno. Semanas 7 y 14 del curso. Para hacer en la casa. Total 50%\n",
    "2. Tareas por demanda. Total 25%.\n",
    "3. Una exposición final. Total 25%."
   ]
  },
  {
   "cell_type": "markdown",
   "metadata": {},
   "source": [
    "## Contenido\n"
   ]
  },
  {
   "cell_type": "code",
   "execution_count": null,
   "metadata": {},
   "outputs": [],
   "source": []
  }
 ],
 "metadata": {
  "kernelspec": {
   "display_name": "Python 3",
   "language": "python",
   "name": "python3"
  },
  "language_info": {
   "codemirror_mode": {
    "name": "ipython",
    "version": 3
   },
   "file_extension": ".py",
   "mimetype": "text/x-python",
   "name": "python",
   "nbconvert_exporter": "python",
   "pygments_lexer": "ipython3",
   "version": "3.7.3"
  }
 },
 "nbformat": 4,
 "nbformat_minor": 4
}
